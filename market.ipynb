{
 "cells": [
  {
   "cell_type": "code",
   "execution_count": 2,
   "id": "60f28c55",
   "metadata": {},
   "outputs": [
    {
     "name": "stdout",
     "output_type": "stream",
     "text": [
      "^C\n"
     ]
    },
    {
     "name": "stdout",
     "output_type": "stream",
     "text": [
      "Requirement already satisfied: FPDF in c:\\users\\nimish lakhmani\\appdata\\local\\programs\\python\\python311\\lib\\site-packages (1.7.2)\n"
     ]
    },
    {
     "name": "stderr",
     "output_type": "stream",
     "text": [
      "\n",
      "[notice] A new release of pip is available: 23.3.1 -> 25.1.1\n",
      "[notice] To update, run: python.exe -m pip install --upgrade pip\n"
     ]
    }
   ],
   "source": [
    "!pip install FPDF"
   ]
  },
  {
   "cell_type": "code",
   "execution_count": null,
   "id": "1290b87c",
   "metadata": {},
   "outputs": [],
   "source": [
    "import pandas as pd\n",
    "import matplotlib.pyplot as plt\n",
    "import seaborn as sns\n",
    "from textblob import TextBlob\n",
    "from fpdf import FPDF\n",
    "from sklearn.ensemble import RandomForestClassifier\n",
    "from sklearn.model_selection import train_test_split"
   ]
  },
  {
   "cell_type": "code",
   "execution_count": null,
   "id": "3249ade4",
   "metadata": {},
   "outputs": [],
   "source": [
    "data = [\n",
    "    {'Date': '2025-06-09', 'Open': 1300.00, 'High': 1316.50, 'Low': 1280.00, 'Close': 1315.20, 'Volume': 330300, 'VWAP': 1301.63, 'Beta': 1.19, 'Mkt_Cap': 14483, 'EPS': 55.45, 'PE': 23.52, 'PB': 2.82, 'Book_Value': 462.95},\n",
    "    {'Date': '2025-06-10', 'Open': 1315.00, 'High': 1325.00, 'Low': 1295.00, 'Close': 1320.45, 'Volume': 340100, 'VWAP': 1310.50, 'Beta': 1.20, 'Mkt_Cap': 14520, 'EPS': 55.80, 'PE': 23.65, 'PB': 2.85, 'Book_Value': 463.10},\n",
    "    {'Date': '2025-06-11', 'Open': 1321.00, 'High': 1330.00, 'Low': 1305.00, 'Close': 1325.85, 'Volume': 345000, 'VWAP': 1315.00, 'Beta': 1.18, 'Mkt_Cap': 14585, 'EPS': 55.70, 'PE': 23.58, 'PB': 2.83, 'Book_Value': 462.80},\n",
    "    {'Date': '2025-06-12', 'Open': 1326.00, 'High': 1340.00, 'Low': 1310.00, 'Close': 1335.30, 'Volume': 355000, 'VWAP': 1320.50, 'Beta': 1.22, 'Mkt_Cap': 14650, 'EPS': 56.00, 'PE': 23.75, 'PB': 2.88, 'Book_Value': 464.00},\n",
    "    {'Date': '2025-06-13', 'Open': 1336.00, 'High': 1350.00, 'Low': 1320.00, 'Close': 1345.70, 'Volume': 360500, 'VWAP': 1325.60, 'Beta': 1.23, 'Mkt_Cap': 14730, 'EPS': 56.20, 'PE': 23.90, 'PB': 2.90, 'Book_Value': 465.20},\n",
    "]\n",
    "\n",
    "market_df = pd.DataFrame(data)\n",
    "market_df['Date'] = pd.to_datetime(market_df['Date'])\n",
    "market_df.set_index('Date', inplace=True)\n",
    "market_df['returns'] = market_df['Close'].pct_change()"
   ]
  },
  {
   "cell_type": "code",
   "execution_count": null,
   "id": "3c7450c1",
   "metadata": {},
   "outputs": [],
   "source": [
    "news_summary = \"\"\"\n",
    "Speaker AI want to get your take on on Google here. It seems to me that they still do need to convince investors that they can win this AI race.\n",
    "And I think the big driver here is that Sergey is very much back engaged and is focused on the AI side of the house at Google.\n",
    "The data suggests that chat GPT's clearly the leader, but Gemini's usage is not far behind open AI and chat GPT.\n",
    "The verticalization of AI certainly creates opportunities for new entrants.\n",
    "\"\"\"\n",
    "\n",
    "blob = TextBlob(news_summary)\n",
    "sentiment_score = blob.sentiment.polarity\n",
    "market_df['sentiment'] = sentiment_score"
   ]
  },
  {
   "cell_type": "code",
   "execution_count": null,
   "id": "cdc753f1",
   "metadata": {},
   "outputs": [],
   "source": [
    "avg_return = market_df['returns'].mean()\n",
    "\n",
    "if sentiment_score > 0.3 and avg_return > 0:\n",
    "    signal = \"BUY\"\n",
    "elif sentiment_score < -0.3 and avg_return < 0:\n",
    "    signal = \"SELL\"\n",
    "else:\n",
    "    signal = \"HOLD\"\n",
    "\n",
    "market_df['signal'] = [signal] * len(market_df)"
   ]
  },
  {
   "cell_type": "code",
   "execution_count": null,
   "id": "864c92c4",
   "metadata": {},
   "outputs": [
    {
     "name": "stderr",
     "output_type": "stream",
     "text": [
      "c:\\Users\\NIMISH LAKHMANI\\AppData\\Local\\Programs\\Python\\Python311\\Lib\\site-packages\\sklearn\\base.py:420: UserWarning: X does not have valid feature names, but RandomForestClassifier was fitted with feature names\n",
      "  warnings.warn(\n"
     ]
    }
   ],
   "source": [
    "market_df['label'] = market_df['signal'].map({\"BUY\": 0, \"HOLD\": 1, \"SELL\": 2})\n",
    "\n",
    "features = ['VWAP', 'PE', 'PB', 'EPS', 'returns', 'sentiment']\n",
    "df_clean = market_df.dropna(subset=features + ['label'])\n",
    "X = df_clean[features]\n",
    "y = df_clean['label']\n",
    "\n",
    "model = RandomForestClassifier()\n",
    "model.fit(X, y)\n",
    "pred = model.predict(X.iloc[-1:].values)\n",
    "pred_signal = {0: \"BUY\", 1: \"HOLD\", 2: \"SELL\"}[pred[0]]"
   ]
  },
  {
   "cell_type": "code",
   "execution_count": null,
   "id": "0e41fd0e",
   "metadata": {},
   "outputs": [],
   "source": [
    "user_age = 28\n",
    "def age_based_strategy(age, base_signal):\n",
    "    if age < 25:\n",
    "        return \"Aggressive SIP or Intraday Buy\" if base_signal == \"BUY\" else \"Consider SIP or Watch Closely\" if base_signal == \"HOLD\" else \"Avoid or Short-term Trade Only\"\n",
    "    elif 25 <= age <= 40:\n",
    "        return \"SIP or Short-Term Buy\" if base_signal == \"BUY\" else \"Hold & Monitor\" if base_signal == \"HOLD\" else \"Avoid New Entry\"\n",
    "    else:\n",
    "        return \"Long-Term Hold with Caution\" if base_signal == \"BUY\" else \"Only if Already Holding\" if base_signal == \"HOLD\" else \"Avoid Risky Exposure\"\n",
    "\n",
    "strategy = age_based_strategy(user_age, pred_signal)"
   ]
  },
  {
   "cell_type": "code",
   "execution_count": null,
   "id": "d1f9ccc4",
   "metadata": {},
   "outputs": [],
   "source": [
    "sns.set(style=\"whitegrid\")\n",
    "plt.figure(figsize=(10, 4))\n",
    "sns.lineplot(data=market_df, x=market_df.index, y=\"Close\", marker=\"o\")\n",
    "plt.title(\"GOOG Closing Prices Over Time\")\n",
    "plt.xticks(rotation=45)\n",
    "plt.tight_layout()\n",
    "plt.savefig(\"price_trend.png\")\n",
    "plt.close()\n",
    "\n",
    "plt.figure(figsize=(6, 4))\n",
    "sns.heatmap(market_df.corr(numeric_only=True), annot=True, cmap=\"coolwarm\")\n",
    "plt.title(\"Feature Correlation Matrix\")\n",
    "plt.tight_layout()\n",
    "plt.savefig(\"correlation_matrix.png\")\n",
    "plt.close()"
   ]
  },
  {
   "cell_type": "code",
   "execution_count": null,
   "id": "83e4272a",
   "metadata": {},
   "outputs": [],
   "source": [
    "importances = model.feature_importances_\n",
    "feat_df = pd.DataFrame({'Feature': features, 'Importance': importances}).sort_values(by='Importance', ascending=False)\n",
    "\n",
    "plt.figure(figsize=(8, 4))\n",
    "sns.barplot(x='Importance', y='Feature', data=feat_df)\n",
    "plt.title(\"Feature Importance from Random Forest\")\n",
    "plt.tight_layout()\n",
    "plt.savefig(\"feature_importance.png\")\n",
    "plt.close()"
   ]
  },
  {
   "cell_type": "code",
   "execution_count": null,
   "id": "40b66a6f",
   "metadata": {},
   "outputs": [
    {
     "name": "stdout",
     "output_type": "stream",
     "text": [
      "✅ PDF Report Generated: Google_Investment_Analysis_with_ML.pdf\n"
     ]
    }
   ],
   "source": [
    "pdf = FPDF()\n",
    "pdf.add_page()\n",
    "pdf.set_font(\"Arial\", size=12)\n",
    "\n",
    "pdf.cell(200, 10, txt=\"Google Investment Analysis Report (with ML)\", ln=True, align='C')\n",
    "pdf.ln(10)\n",
    "pdf.multi_cell(0, 10, txt=f\"Sentiment Score: {sentiment_score:.2f}\\nAverage Return: {avg_return:.4f}\\nRule-Based Signal: {signal}\\nML Predicted Signal: {pred_signal}\\nAge ({user_age})-Based Strategy: {strategy}\")\n",
    "\n",
    "pdf.image(\"price_trend.png\", w=180)\n",
    "pdf.ln(5)\n",
    "pdf.image(\"correlation_matrix.png\", w=180)\n",
    "pdf.ln(5)\n",
    "pdf.image(\"feature_importance.png\", w=180)\n",
    "\n",
    "pdf.output(\"Google_Investment_Analysis_with_ML.pdf\")\n",
    "print(\"✅ PDF Report Generated: Google_Investment_Analysis_with_ML.pdf\")"
   ]
  },
  {
   "cell_type": "code",
   "execution_count": null,
   "id": "66513424",
   "metadata": {},
   "outputs": [],
   "source": []
  }
 ],
 "metadata": {
  "kernelspec": {
   "display_name": "Python 3",
   "language": "python",
   "name": "python3"
  },
  "language_info": {
   "codemirror_mode": {
    "name": "ipython",
    "version": 3
   },
   "file_extension": ".py",
   "mimetype": "text/x-python",
   "name": "python",
   "nbconvert_exporter": "python",
   "pygments_lexer": "ipython3",
   "version": "3.11.1"
  }
 },
 "nbformat": 4,
 "nbformat_minor": 5
}
